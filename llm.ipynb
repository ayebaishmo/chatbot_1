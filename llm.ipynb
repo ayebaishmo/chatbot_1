{
 "cells": [
  {
   "cell_type": "code",
   "execution_count": 2,
   "metadata": {},
   "outputs": [],
   "source": [
    "import os\n",
    "from azure.ai.inference import ChatCompletionsClient\n",
    "from azure.ai.inference.models import SystemMessage, UserMessage\n",
    "from azure.core.credentials import AzureKeyCredential\n",
    "from dotenv import load_dotenv\n",
    "\n",
    "load_dotenv()\n",
    "\n",
    "endpoint = \"https://models.inference.ai.azure.com\"\n",
    "model_name = \"meta-llama-3.1-405b-instruct\"\n",
    "api_token = os.getenv(\"token\")\n",
    "\n",
    "client = ChatCompletionsClient(\n",
    "    endpoint=endpoint,\n",
    "    credential=AzureKeyCredential(api_token),\n",
    ")"
   ]
  },
  {
   "cell_type": "code",
   "execution_count": 3,
   "metadata": {},
   "outputs": [
    {
     "name": "stdout",
     "output_type": "stream",
     "text": [
      "The capital of Uganda is Kampala.\n"
     ]
    }
   ],
   "source": [
    "def get_ai_answer(client, model_name, question, temperature=1.0, top_p=1.0, max_tokens=1000):\n",
    "    \"\"\"\n",
    "    Queries the AI model for an answer to a user's question.\n",
    "\n",
    "    Args:\n",
    "        client (object): The AI client object.\n",
    "        model_name (str): The name of the AI model.\n",
    "        question (str): The user's question.\n",
    "        temperature (float, optional): The temperature parameter. Defaults to 1.0.\n",
    "        top_p (float, optional): The top_p parameter. Defaults to 1.0.\n",
    "        max_tokens (int, optional): The maximum number of tokens. Defaults to 1000.\n",
    "\n",
    "    Returns:\n",
    "        str: The AI's answer.\n",
    "    \"\"\"\n",
    "    response = client.complete(\n",
    "        messages=[\n",
    "            SystemMessage(content=\"You are a helpful assistant.\"),\n",
    "            UserMessage(content=question),\n",
    "        ],\n",
    "        temperature=temperature,\n",
    "        top_p=top_p,\n",
    "        max_tokens=max_tokens,\n",
    "        model=model_name\n",
    "    )\n",
    "    return response.choices[0].message.content\n",
    "\n",
    "\n",
    "# Example usage:\n",
    "question = \"What is the capital of Uganda?\"\n",
    "answer = get_ai_answer(client, model_name, question)\n",
    "print(answer)"
   ]
  },
  {
   "cell_type": "code",
   "execution_count": 6,
   "metadata": {},
   "outputs": [],
   "source": [
    "def chat_with_model():\n",
    "    print(\"Chatbot, Hello how can I assist you today?\")\n",
    "    conversation = [\n",
    "        SystemMessage(content=\"You are helpfull assistant\")\n",
    "    ]\n",
    "\n",
    "    while True:\n",
    "        user_input = input(\"You: \")\n",
    "        if user_input.lower() in [\"exit\", \"quit\"]:\n",
    "            print(\"Chatbot: Goodbye\")\n",
    "            break\n",
    "\n",
    "        conversation.append(UserMessage(content=user_input))\n",
    "\n",
    "        response = get_ai_answer(client, model_name, user_input)\n",
    "\n",
    "        chatbot_message = response\n",
    "        print(\"Chatbot:\", chatbot_message)\n",
    "        conversation.append(SystemMessage(content=chatbot_message))"
   ]
  },
  {
   "cell_type": "code",
   "execution_count": 8,
   "metadata": {},
   "outputs": [],
   "source": [
    "# chat_with_model()"
   ]
  },
  {
   "cell_type": "code",
   "execution_count": null,
   "metadata": {},
   "outputs": [],
   "source": []
  }
 ],
 "metadata": {
  "kernelspec": {
   "display_name": "llmbot-CyF_MIcr",
   "language": "python",
   "name": "python3"
  },
  "language_info": {
   "codemirror_mode": {
    "name": "ipython",
    "version": 3
   },
   "file_extension": ".py",
   "mimetype": "text/x-python",
   "name": "python",
   "nbconvert_exporter": "python",
   "pygments_lexer": "ipython3",
   "version": "3.11.5"
  }
 },
 "nbformat": 4,
 "nbformat_minor": 2
}
